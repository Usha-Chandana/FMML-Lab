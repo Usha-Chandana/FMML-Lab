{
  "nbformat": 4,
  "nbformat_minor": 0,
  "metadata": {
    "colab": {
      "provenance": [],
      "authorship_tag": "ABX9TyOw+a4yOlPLVRUSdyj5HXhj",
      "include_colab_link": true
    },
    "kernelspec": {
      "name": "python3",
      "display_name": "Python 3"
    },
    "language_info": {
      "name": "python"
    }
  },
  "cells": [
    {
      "cell_type": "markdown",
      "metadata": {
        "id": "view-in-github",
        "colab_type": "text"
      },
      "source": [
        "<a href=\"https://colab.research.google.com/github/Usha-Chandana/FMML-Lab/blob/main/Basics_of_Python_Lab.ipynb\" target=\"_parent\"><img src=\"https://colab.research.google.com/assets/colab-badge.svg\" alt=\"Open In Colab\"/></a>"
      ]
    },
    {
      "cell_type": "markdown",
      "source": [
        "Question 0"
      ],
      "metadata": {
        "id": "DI7qntsqklu_"
      }
    },
    {
      "cell_type": "code",
      "source": [
        "# string methods\n",
        "\n",
        "#count\n",
        "txt =\"Apple Apple Mango Apple\"\n",
        "x = txt.count(\"Apple\")\n",
        "print(x)\n",
        "\n",
        "#split\n",
        "\n",
        "txt = \"My name is Usha Chandana\"\n",
        "x = txt.split(\" \")\n",
        "print(x)\n",
        "\n",
        "#replace\n",
        "x = txt.replace(\"Chandana\", \"M\")\n",
        "print(x)"
      ],
      "metadata": {
        "colab": {
          "base_uri": "https://localhost:8080/"
        },
        "id": "uqzVsiUilDR8",
        "outputId": "4c862d79-d6c9-4686-d604-df9116145a8c"
      },
      "execution_count": 1,
      "outputs": [
        {
          "output_type": "stream",
          "name": "stdout",
          "text": [
            "3\n",
            "['My', 'name', 'is', 'Usha', 'Chandana']\n",
            "My name is Usha M\n"
          ]
        }
      ]
    },
    {
      "cell_type": "code",
      "source": [
        "#List methods\n",
        "\n",
        "#append\n",
        "subjects = ['DBMS', 'ML' , 'AI']\n",
        "subjects.append(\"LAC\")\n",
        "print(subjects)\n",
        "\n",
        "#insert\n",
        "subjects.insert(2, \"OS\")\n",
        "print(subjects)\n",
        "\n",
        "#reverse\n",
        "subjects.reverse()\n",
        "print(subjects)"
      ],
      "metadata": {
        "colab": {
          "base_uri": "https://localhost:8080/"
        },
        "id": "LjGADV5RmJRL",
        "outputId": "dba365f4-79fb-4519-b1b5-f447ddc4ac01"
      },
      "execution_count": 2,
      "outputs": [
        {
          "output_type": "stream",
          "name": "stdout",
          "text": [
            "['DBMS', 'ML', 'AI', 'LAC']\n",
            "['DBMS', 'ML', 'OS', 'AI', 'LAC']\n",
            "['LAC', 'AI', 'OS', 'ML', 'DBMS']\n"
          ]
        }
      ]
    },
    {
      "cell_type": "code",
      "source": [
        "#Tuple methods\n",
        "\n",
        "#count\n",
        "tuple1 = (1, 3, 5, 8, 2, 6, 3, 3, 0, 3)\n",
        "\n",
        "print(tuple1.count(3))\n",
        "\n",
        "#index\n",
        "\n",
        "print(tuple1.index(8))"
      ],
      "metadata": {
        "colab": {
          "base_uri": "https://localhost:8080/"
        },
        "id": "zO9n32NAm5Hi",
        "outputId": "102b0791-a2fd-4c57-8bf3-d3b09cc78e66"
      },
      "execution_count": 10,
      "outputs": [
        {
          "output_type": "stream",
          "name": "stdout",
          "text": [
            "4\n",
            "3\n"
          ]
        }
      ]
    },
    {
      "cell_type": "code",
      "source": [
        "#Set methods\n",
        "\n",
        "#add\n",
        "\n",
        "first = {\"A\", \"B\", \"C\"}\n",
        "first.add(\"D\")\n",
        "print(first)\n",
        "\n",
        "#copy\n",
        "\n",
        "second = first.copy()\n",
        "print(second)\n",
        "second.add(\"E\")\n",
        "\n",
        "#difference\n",
        "\n",
        "third = second.difference(first)\n",
        "print(third)"
      ],
      "metadata": {
        "colab": {
          "base_uri": "https://localhost:8080/"
        },
        "id": "IzXy-Bzjp96t",
        "outputId": "20aacc8d-9351-47ad-dd07-6a9d323d117c"
      },
      "execution_count": 11,
      "outputs": [
        {
          "output_type": "stream",
          "name": "stdout",
          "text": [
            "{'A', 'C', 'B', 'D'}\n",
            "{'A', 'C', 'B', 'D'}\n",
            "{'E'}\n"
          ]
        }
      ]
    },
    {
      "cell_type": "code",
      "source": [
        "#dictionary methods\n",
        "\n",
        "#get\n",
        "\n",
        "subjects = {\n",
        "  1: \"one\",\n",
        "  2: \"two\",\n",
        "  3: \"three\"\n",
        "}\n",
        "\n",
        "print(subjects.get(2))\n",
        "\n",
        "#values\n",
        "\n",
        "print(subjects.values())\n",
        "\n",
        "#items\n",
        "\n",
        "print(subjects.items())"
      ],
      "metadata": {
        "colab": {
          "base_uri": "https://localhost:8080/"
        },
        "id": "s-iD1pX5rY_7",
        "outputId": "21e0e244-a87b-4b4f-a4db-54584ffd763f"
      },
      "execution_count": 12,
      "outputs": [
        {
          "output_type": "stream",
          "name": "stdout",
          "text": [
            "two\n",
            "dict_values(['one', 'two', 'three'])\n",
            "dict_items([(1, 'one'), (2, 'two'), (3, 'three')])\n"
          ]
        }
      ]
    },
    {
      "cell_type": "markdown",
      "source": [
        "Question 1"
      ],
      "metadata": {
        "id": "yll8UBNMtoDi"
      }
    },
    {
      "cell_type": "code",
      "source": [
        "def function(a,b):\n",
        "  str=a[::-1]\n",
        "  str=str+b\n",
        "  return str\n",
        "\n",
        "x=function(\"abcd\",\"efgh\")\n",
        "print(x)"
      ],
      "metadata": {
        "colab": {
          "base_uri": "https://localhost:8080/"
        },
        "id": "XwaXj9CItsHX",
        "outputId": "4ebe16d3-fcd0-4f49-cd90-f615715ec5d0"
      },
      "execution_count": 14,
      "outputs": [
        {
          "output_type": "stream",
          "name": "stdout",
          "text": [
            "dcbaefgh\n"
          ]
        }
      ]
    },
    {
      "cell_type": "markdown",
      "source": [
        "Question 2"
      ],
      "metadata": {
        "id": "xSg-OeR0vELs"
      }
    },
    {
      "cell_type": "code",
      "source": [
        "details = [('Abby',100 , 'F'),('Billy',400, 'M'),('Cassie',800,'F'), ('Maggi',600,'F'),('Alex',500,'M'),('Raj',225,'M'),('Penny',920,'F'),('Ben',300,'M')]\n",
        "max=0\n",
        "\n",
        "for i in details:\n",
        "  for j in i:\n",
        "    if(j=='F' and max<=i[1]):\n",
        "      max=i[1]\n",
        "      name=i[0]\n",
        "print(name)\n",
        "print(max*20)"
      ],
      "metadata": {
        "colab": {
          "base_uri": "https://localhost:8080/"
        },
        "id": "fyTqAm2cvDaD",
        "outputId": "4c495bc2-6bbd-4f50-94a4-e1d0fa8209ff"
      },
      "execution_count": 18,
      "outputs": [
        {
          "output_type": "stream",
          "name": "stdout",
          "text": [
            "Penny\n",
            "18400\n"
          ]
        }
      ]
    },
    {
      "cell_type": "markdown",
      "source": [
        "Question 3(a)"
      ],
      "metadata": {
        "id": "1l806La2xjl4"
      }
    },
    {
      "cell_type": "code",
      "source": [
        "import numpy as np\n",
        "\n",
        "a=np.arange(1,6)\n",
        "x=np.vstack((a,a,a,a,a))\n",
        "res=x.T\n",
        "res"
      ],
      "metadata": {
        "colab": {
          "base_uri": "https://localhost:8080/"
        },
        "id": "k43kVWocxoV6",
        "outputId": "607e56b4-335f-46c9-9088-ff53cd311bb7"
      },
      "execution_count": 38,
      "outputs": [
        {
          "output_type": "execute_result",
          "data": {
            "text/plain": [
              "array([[1, 1, 1, 1, 1],\n",
              "       [2, 2, 2, 2, 2],\n",
              "       [3, 3, 3, 3, 3],\n",
              "       [4, 4, 4, 4, 4],\n",
              "       [5, 5, 5, 5, 5]])"
            ]
          },
          "metadata": {},
          "execution_count": 38
        }
      ]
    },
    {
      "cell_type": "markdown",
      "source": [
        "Question 3(b)"
      ],
      "metadata": {
        "id": "XcSnoXVL8y0l"
      }
    },
    {
      "cell_type": "code",
      "source": [
        "b=np.arange(0,25).reshape(5,5)\n",
        "print(b)\n",
        "res@b\n"
      ],
      "metadata": {
        "colab": {
          "base_uri": "https://localhost:8080/"
        },
        "id": "bGKjrgHG81mx",
        "outputId": "dcfcce7b-cea8-4c5d-becb-fb04e989c60c"
      },
      "execution_count": 39,
      "outputs": [
        {
          "output_type": "stream",
          "name": "stdout",
          "text": [
            "[[ 0  1  2  3  4]\n",
            " [ 5  6  7  8  9]\n",
            " [10 11 12 13 14]\n",
            " [15 16 17 18 19]\n",
            " [20 21 22 23 24]]\n"
          ]
        },
        {
          "output_type": "execute_result",
          "data": {
            "text/plain": [
              "array([[ 50,  55,  60,  65,  70],\n",
              "       [100, 110, 120, 130, 140],\n",
              "       [150, 165, 180, 195, 210],\n",
              "       [200, 220, 240, 260, 280],\n",
              "       [250, 275, 300, 325, 350]])"
            ]
          },
          "metadata": {},
          "execution_count": 39
        }
      ]
    },
    {
      "cell_type": "code",
      "source": [],
      "metadata": {
        "id": "gi3Tx7HpBQrG"
      },
      "execution_count": null,
      "outputs": []
    }
  ]
}